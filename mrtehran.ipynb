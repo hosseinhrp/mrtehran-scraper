{
 "cells": [
  {
   "cell_type": "code",
   "execution_count": null,
   "metadata": {},
   "outputs": [],
   "source": [
    "import requests\n",
    "import json\n",
    "import os\n",
    "from bs4 import BeautifulSoup\n",
    "import pandas as pd\n",
    "\n",
    "def get_musics(pages=1, musictype=\"featured\"):\n",
    "    musics = []\n",
    "    url = \"https://mrtehran.com/browse/{}/page-{}\"\n",
    "    page = requests.get(url.format(musictype,1))\n",
    "    soup = BeautifulSoup(page.content, 'html.parser')\n",
    "\n",
    "    page_numbers = soup.find_all(\n",
    "        'li', attrs={'class': 'page-item'})\n",
    "    if len(page_numbers)>0:\n",
    "        pages = page_numbers[-1].text\n",
    "    else:\n",
    "        pages = 1\n",
    "    for page_number in range(1, (pages+1)):\n",
    "\n",
    "        page = requests.get(url.format(musictype,page_number))\n",
    "        soup = BeautifulSoup(page.content, 'html.parser')\n",
    "\n",
    "        featured = soup.find_all(\n",
    "            'div', attrs={'data-song': True})\n",
    "        for item in featured:\n",
    "            musics.append({\n",
    "                'artist': item.get('data-artist'),\n",
    "                'title': item.get('data-title'),\n",
    "                'cover': item.get('data-thumb').replace('_thumb', ''),\n",
    "                'cover_thumb': item.get('data-thumb'),\n",
    "                'data_url':item.get(\"data-url\"),\n",
    "                'data_id':item.get('data-id'),\n",
    "                'mp3': item.get('data-song')\n",
    "            })\n",
    "\n",
    "    return musics\n",
    "if not os.path.exists(\"./result\"):\n",
    "    os.mkdir(\"results\")\n",
    "\n",
    "all_cats = [\"featured\",\"latest\",\"popular\", \"podcasts\", \"travel\"]\n",
    "for music_type in all_cats:\n",
    "    pd.DataFrame(get_musics(1,music_type), columns = ['title','cover','cover_thumb','data_url','data_id','mp3']).to_csv(\"./reslut/\"+music_type +\".csv\")\n",
    "\n",
    "        # featured.write(json.dumps(get_musics(1,music_type), indent=2))\n"
   ]
  },
  {
   "cell_type": "code",
   "execution_count": null,
   "metadata": {},
   "outputs": [],
   "source": []
  }
 ],
 "metadata": {
  "kernelspec": {
   "display_name": "base",
   "language": "python",
   "name": "python3"
  },
  "language_info": {
   "name": "python",
   "version": "3.7.4"
  },
  "orig_nbformat": 4,
  "vscode": {
   "interpreter": {
    "hash": "b09ec625f77bf4fd762565a912b97636504ad6ec901eb2d0f4cf5a7de23e1ee5"
   }
  }
 },
 "nbformat": 4,
 "nbformat_minor": 2
}
